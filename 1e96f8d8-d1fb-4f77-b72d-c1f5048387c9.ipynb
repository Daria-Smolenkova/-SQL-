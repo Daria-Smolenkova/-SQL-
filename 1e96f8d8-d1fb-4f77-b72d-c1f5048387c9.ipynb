{
 "cells": [
  {
   "cell_type": "markdown",
   "metadata": {},
   "source": [
    "# Проект по SQL: Анализ базы данных сервиса для чтения книг по подписке"
   ]
  },
  {
   "cell_type": "markdown",
   "metadata": {},
   "source": [
    "**1. Описание проекта**\n",
    "\n",
    "Проект заключается в анализе базы данных крупного сервиса для чтения книг по подписке. База данных содержит информацию о книгах, издательствах, авторах, а также пользовательские обзоры и оценки книг. Данные будут использованы для формулирования ценностного предложения нового продукта.\n",
    "\n",
    "**2. Цели и задачи проекта**\n",
    "\n",
    "**Цели проекта:**\n",
    "- Анализ текущего состояния рынка книг по подписке.\n",
    "- Определение ключевых факторов успеха для нового продукта.\n",
    "\n",
    "**Задачи проекта:**\n",
    "- Посчитать количество книг, вышедших после 1 января 2000 года.\n",
    "- Для каждой книги посчитать количество обзоров и среднюю оценку.\n",
    "- Определить издательство, выпустившее наибольшее число книг толще 50 страниц.\n",
    "- Определить автора с самой высокой средней оценкой книг, учитывая только книги с 50 и более оценками.\n",
    "- Посчитать среднее количество обзоров от пользователей, которые поставили больше 48 оценок.\n",
    "\n",
    "**Описание данных**\n",
    "\n",
    "*Таблица books*\n",
    "\n",
    "Содержит данные о книгах:\n",
    "  - book_id — идентификатор книги;\n",
    "  - author_id — идентификатор автора;\n",
    "  - title — название книги;\n",
    "  - num_pages — количество страниц;\n",
    "  - publication_date — дата публикации книги;\n",
    "  - publisher_id — идентификатор издателя.\n",
    "\n",
    "*Таблица authors*\n",
    "\n",
    "Содержит данные об авторах:\n",
    "  - author_id — идентификатор автора;\n",
    "  - author — имя автора.\n",
    "\n",
    "*Таблица publishers*\n",
    "\n",
    "Содержит данные об издательствах:\n",
    "  - publisher_id — идентификатор издательства;\n",
    "  - publisher — название издательства;\n",
    "\n",
    "*Таблица ratings*\n",
    "\n",
    "Содержит данные о пользовательских оценках книг:\n",
    "  - rating_id — идентификатор оценки;\n",
    "  - book_id — идентификатор книги;\n",
    "  - username — имя пользователя, оставившего оценку;\n",
    "  - rating — оценка книги.\n",
    "  \n",
    "*Таблица reviews*\n",
    "\n",
    "Содержит данные о пользовательских обзорах:\n",
    "  - review_id — идентификатор обзора;\n",
    "  - book_id — идентификатор книги;\n",
    "  - username — имя автора обзора;\n",
    "  - text — текст обзора.\n",
    "\n",
    "**3. Ход работы**\n",
    "\n",
    "**Этап 1: Подготовка и исследование данных**\n",
    "- Подключиться к базе данных.\n",
    "- Исследовать таблицы, вывести первые строки для ознакомления с данными.\n",
    "\n",
    "**Этап 2: Выполнение SQL-запросов**\n",
    "- **Задача 1:** Посчитать количество книг, вышедших после 1 января 2000 года.\n",
    "\n",
    "- **Задача 2:** Для каждой книги посчитать количество обзоров и среднюю оценку.\n",
    "\n",
    "- **Задача 3:** Определить издательство, выпустившее наибольшее число книг толще 50 страниц.\n",
    "\n",
    "- **Задача 4:** Определить автора с самой высокой средней оценкой книг, учитывая только книги с 50 и более оценками.\n",
    " \n",
    "- **Задача 5:** Посчитать среднее количество обзоров от пользователей, которые поставили больше 48 оценок.\n",
    " \n",
    "Вывести результаты каждого запроса в тетрадке.\n",
    "Описать выводы по каждой из решённых задач.\n",
    "\n",
    "**Этап 3: Вывод**"
   ]
  },
  {
   "cell_type": "markdown",
   "metadata": {},
   "source": [
    "## Подготовка и исследование данных"
   ]
  },
  {
   "cell_type": "markdown",
   "metadata": {},
   "source": [
    "**Подключение к базе данных**"
   ]
  },
  {
   "cell_type": "markdown",
   "metadata": {},
   "source": [
    "Для начала подключим необходимые библиотеки и загрузим данные"
   ]
  },
  {
   "cell_type": "code",
   "execution_count": 1,
   "metadata": {},
   "outputs": [],
   "source": [
    "import pandas as pd\n",
    "from sqlalchemy import text, create_engine"
   ]
  },
  {
   "cell_type": "code",
   "execution_count": 2,
   "metadata": {},
   "outputs": [],
   "source": [
    "# устанавливаем параметры\n",
    "db_config = {'user': 'praktikum_student', # имя пользователя\n",
    "'pwd': 'Sdf4$2;d-d30pp', # пароль\n",
    "'host': 'rc1b-wcoijxj3yxfsf3fs.mdb.yandexcloud.net',\n",
    "'port': 6432, # порт подключения\n",
    "'db': 'data-analyst-final-project-db'} # название базы данных\n",
    "connection_string = 'postgresql://{user}:{pwd}@{host}:{port}/{db}'.format(**db_config)\n",
    "# сохраняем коннектор\n",
    "engine = create_engine(connection_string, connect_args={'sslmode':'require'})"
   ]
  },
  {
   "cell_type": "markdown",
   "metadata": {},
   "source": [
    "**Исследование таблиц**"
   ]
  },
  {
   "cell_type": "markdown",
   "metadata": {},
   "source": [
    "Для начала посмотрим размеры таблиц"
   ]
  },
  {
   "cell_type": "code",
   "execution_count": 3,
   "metadata": {},
   "outputs": [
    {
     "name": "stdout",
     "output_type": "stream",
     "text": [
      "Размер таблицы 'books': 1000\n",
      "Размер таблицы 'authors': 636\n",
      "Размер таблицы 'publishers': 340\n",
      "Размер таблицы 'ratings': 6456\n",
      "Размер таблицы 'reviews': 2793\n"
     ]
    }
   ],
   "source": [
    "tables = ['books', 'authors', 'publishers', 'ratings', 'reviews']\n",
    "\n",
    "with engine.connect() as con:\n",
    "    for table in tables:\n",
    "        size_query = f'SELECT COUNT(*) FROM {table}'\n",
    "        size_df = pd.io.sql.read_sql(sql=text(size_query), con=con)\n",
    "        table_size = size_df.iloc[0, 0]\n",
    "        print(f\"Размер таблицы '{table}': {table_size}\")"
   ]
  },
  {
   "cell_type": "markdown",
   "metadata": {},
   "source": [
    "Основываясь на предоставленных данных о размерах таблиц, можно сделать следующие выводы:\n",
    "\n",
    "1. **Таблица 'books'**: Содержит 1000 записей. Это количество книг в базе данных.\n",
    "\n",
    "2. **Таблица 'authors'**: Содержит 636 записей. Это количество авторов в базе данных. Учитывая, что количество авторов меньше количества книг, можно предположить, что многие авторы написали более одной книги.\n",
    "\n",
    "3. **Таблица 'publishers'**: Содержит 340 записей. Это количество издательств в базе данных. Это число значительно меньше количества книг, что указывает на то, что многие издательства выпустили несколько книг.\n",
    "\n",
    "4. **Таблица 'ratings'**: Содержит 6456 записей. Это количество оценок, которые пользователи поставили книгам. Это число значительно превышает количество книг, что говорит о том, что многие книги получили несколько оценок.\n",
    "\n",
    "5. **Таблица 'reviews'**: Содержит 2793 записей. Это количество обзоров, оставленных пользователями. Это число меньше количества оценок, что может означать, что не все пользователи оставляют обзоры, или что не все книги получили обзоры.\n",
    "\n"
   ]
  },
  {
   "cell_type": "markdown",
   "metadata": {},
   "source": [
    "Далее выведем первые строки каждой таблицы."
   ]
  },
  {
   "cell_type": "markdown",
   "metadata": {},
   "source": [
    "**Таблица books**"
   ]
  },
  {
   "cell_type": "code",
   "execution_count": 4,
   "metadata": {},
   "outputs": [
    {
     "data": {
      "text/html": [
       "<div>\n",
       "<style scoped>\n",
       "    .dataframe tbody tr th:only-of-type {\n",
       "        vertical-align: middle;\n",
       "    }\n",
       "\n",
       "    .dataframe tbody tr th {\n",
       "        vertical-align: top;\n",
       "    }\n",
       "\n",
       "    .dataframe thead th {\n",
       "        text-align: right;\n",
       "    }\n",
       "</style>\n",
       "<table border=\"1\" class=\"dataframe\">\n",
       "  <thead>\n",
       "    <tr style=\"text-align: right;\">\n",
       "      <th></th>\n",
       "      <th>book_id</th>\n",
       "      <th>author_id</th>\n",
       "      <th>title</th>\n",
       "      <th>num_pages</th>\n",
       "      <th>publication_date</th>\n",
       "      <th>publisher_id</th>\n",
       "    </tr>\n",
       "  </thead>\n",
       "  <tbody>\n",
       "    <tr>\n",
       "      <th>0</th>\n",
       "      <td>1</td>\n",
       "      <td>546</td>\n",
       "      <td>'Salem's Lot</td>\n",
       "      <td>594</td>\n",
       "      <td>2005-11-01</td>\n",
       "      <td>93</td>\n",
       "    </tr>\n",
       "    <tr>\n",
       "      <th>1</th>\n",
       "      <td>2</td>\n",
       "      <td>465</td>\n",
       "      <td>1 000 Places to See Before You Die</td>\n",
       "      <td>992</td>\n",
       "      <td>2003-05-22</td>\n",
       "      <td>336</td>\n",
       "    </tr>\n",
       "    <tr>\n",
       "      <th>2</th>\n",
       "      <td>3</td>\n",
       "      <td>407</td>\n",
       "      <td>13 Little Blue Envelopes (Little Blue Envelope...</td>\n",
       "      <td>322</td>\n",
       "      <td>2010-12-21</td>\n",
       "      <td>135</td>\n",
       "    </tr>\n",
       "    <tr>\n",
       "      <th>3</th>\n",
       "      <td>4</td>\n",
       "      <td>82</td>\n",
       "      <td>1491: New Revelations of the Americas Before C...</td>\n",
       "      <td>541</td>\n",
       "      <td>2006-10-10</td>\n",
       "      <td>309</td>\n",
       "    </tr>\n",
       "    <tr>\n",
       "      <th>4</th>\n",
       "      <td>5</td>\n",
       "      <td>125</td>\n",
       "      <td>1776</td>\n",
       "      <td>386</td>\n",
       "      <td>2006-07-04</td>\n",
       "      <td>268</td>\n",
       "    </tr>\n",
       "  </tbody>\n",
       "</table>\n",
       "</div>"
      ],
      "text/plain": [
       "   book_id  author_id                                              title  \\\n",
       "0        1        546                                       'Salem's Lot   \n",
       "1        2        465                 1 000 Places to See Before You Die   \n",
       "2        3        407  13 Little Blue Envelopes (Little Blue Envelope...   \n",
       "3        4         82  1491: New Revelations of the Americas Before C...   \n",
       "4        5        125                                               1776   \n",
       "\n",
       "   num_pages publication_date  publisher_id  \n",
       "0        594       2005-11-01            93  \n",
       "1        992       2003-05-22           336  \n",
       "2        322       2010-12-21           135  \n",
       "3        541       2006-10-10           309  \n",
       "4        386       2006-07-04           268  "
      ]
     },
     "execution_count": 4,
     "metadata": {},
     "output_type": "execute_result"
    }
   ],
   "source": [
    "query = '''SELECT * \n",
    "           FROM books\n",
    "           LIMIT 5;'''\n",
    "con=engine.connect()\n",
    "pd.io.sql.read_sql(sql=text(query), con = con)"
   ]
  },
  {
   "cell_type": "markdown",
   "metadata": {},
   "source": [
    "**Таблица authors**"
   ]
  },
  {
   "cell_type": "code",
   "execution_count": 5,
   "metadata": {},
   "outputs": [
    {
     "data": {
      "text/html": [
       "<div>\n",
       "<style scoped>\n",
       "    .dataframe tbody tr th:only-of-type {\n",
       "        vertical-align: middle;\n",
       "    }\n",
       "\n",
       "    .dataframe tbody tr th {\n",
       "        vertical-align: top;\n",
       "    }\n",
       "\n",
       "    .dataframe thead th {\n",
       "        text-align: right;\n",
       "    }\n",
       "</style>\n",
       "<table border=\"1\" class=\"dataframe\">\n",
       "  <thead>\n",
       "    <tr style=\"text-align: right;\">\n",
       "      <th></th>\n",
       "      <th>author_id</th>\n",
       "      <th>author</th>\n",
       "    </tr>\n",
       "  </thead>\n",
       "  <tbody>\n",
       "    <tr>\n",
       "      <th>0</th>\n",
       "      <td>1</td>\n",
       "      <td>A.S. Byatt</td>\n",
       "    </tr>\n",
       "    <tr>\n",
       "      <th>1</th>\n",
       "      <td>2</td>\n",
       "      <td>Aesop/Laura Harris/Laura Gibbs</td>\n",
       "    </tr>\n",
       "    <tr>\n",
       "      <th>2</th>\n",
       "      <td>3</td>\n",
       "      <td>Agatha Christie</td>\n",
       "    </tr>\n",
       "    <tr>\n",
       "      <th>3</th>\n",
       "      <td>4</td>\n",
       "      <td>Alan Brennert</td>\n",
       "    </tr>\n",
       "    <tr>\n",
       "      <th>4</th>\n",
       "      <td>5</td>\n",
       "      <td>Alan Moore/David   Lloyd</td>\n",
       "    </tr>\n",
       "  </tbody>\n",
       "</table>\n",
       "</div>"
      ],
      "text/plain": [
       "   author_id                          author\n",
       "0          1                      A.S. Byatt\n",
       "1          2  Aesop/Laura Harris/Laura Gibbs\n",
       "2          3                 Agatha Christie\n",
       "3          4                   Alan Brennert\n",
       "4          5        Alan Moore/David   Lloyd"
      ]
     },
     "execution_count": 5,
     "metadata": {},
     "output_type": "execute_result"
    }
   ],
   "source": [
    "query = '''SELECT * \n",
    "           FROM authors \n",
    "           LIMIT 5;'''\n",
    "con=engine.connect()\n",
    "pd.io.sql.read_sql(sql=text(query), con = con)"
   ]
  },
  {
   "cell_type": "markdown",
   "metadata": {},
   "source": [
    "**Таблица publishers**"
   ]
  },
  {
   "cell_type": "code",
   "execution_count": 6,
   "metadata": {
    "scrolled": true
   },
   "outputs": [
    {
     "data": {
      "text/html": [
       "<div>\n",
       "<style scoped>\n",
       "    .dataframe tbody tr th:only-of-type {\n",
       "        vertical-align: middle;\n",
       "    }\n",
       "\n",
       "    .dataframe tbody tr th {\n",
       "        vertical-align: top;\n",
       "    }\n",
       "\n",
       "    .dataframe thead th {\n",
       "        text-align: right;\n",
       "    }\n",
       "</style>\n",
       "<table border=\"1\" class=\"dataframe\">\n",
       "  <thead>\n",
       "    <tr style=\"text-align: right;\">\n",
       "      <th></th>\n",
       "      <th>publisher_id</th>\n",
       "      <th>publisher</th>\n",
       "    </tr>\n",
       "  </thead>\n",
       "  <tbody>\n",
       "    <tr>\n",
       "      <th>0</th>\n",
       "      <td>1</td>\n",
       "      <td>Ace</td>\n",
       "    </tr>\n",
       "    <tr>\n",
       "      <th>1</th>\n",
       "      <td>2</td>\n",
       "      <td>Ace Book</td>\n",
       "    </tr>\n",
       "    <tr>\n",
       "      <th>2</th>\n",
       "      <td>3</td>\n",
       "      <td>Ace Books</td>\n",
       "    </tr>\n",
       "    <tr>\n",
       "      <th>3</th>\n",
       "      <td>4</td>\n",
       "      <td>Ace Hardcover</td>\n",
       "    </tr>\n",
       "    <tr>\n",
       "      <th>4</th>\n",
       "      <td>5</td>\n",
       "      <td>Addison Wesley Publishing Company</td>\n",
       "    </tr>\n",
       "  </tbody>\n",
       "</table>\n",
       "</div>"
      ],
      "text/plain": [
       "   publisher_id                          publisher\n",
       "0             1                                Ace\n",
       "1             2                           Ace Book\n",
       "2             3                          Ace Books\n",
       "3             4                      Ace Hardcover\n",
       "4             5  Addison Wesley Publishing Company"
      ]
     },
     "execution_count": 6,
     "metadata": {},
     "output_type": "execute_result"
    }
   ],
   "source": [
    "query = '''SELECT * \n",
    "           FROM publishers \n",
    "           LIMIT 5;'''\n",
    "con=engine.connect()\n",
    "pd.io.sql.read_sql(sql=text(query), con = con)"
   ]
  },
  {
   "cell_type": "markdown",
   "metadata": {},
   "source": [
    "**Таблица ratings**"
   ]
  },
  {
   "cell_type": "code",
   "execution_count": 7,
   "metadata": {},
   "outputs": [
    {
     "data": {
      "text/html": [
       "<div>\n",
       "<style scoped>\n",
       "    .dataframe tbody tr th:only-of-type {\n",
       "        vertical-align: middle;\n",
       "    }\n",
       "\n",
       "    .dataframe tbody tr th {\n",
       "        vertical-align: top;\n",
       "    }\n",
       "\n",
       "    .dataframe thead th {\n",
       "        text-align: right;\n",
       "    }\n",
       "</style>\n",
       "<table border=\"1\" class=\"dataframe\">\n",
       "  <thead>\n",
       "    <tr style=\"text-align: right;\">\n",
       "      <th></th>\n",
       "      <th>rating_id</th>\n",
       "      <th>book_id</th>\n",
       "      <th>username</th>\n",
       "      <th>rating</th>\n",
       "    </tr>\n",
       "  </thead>\n",
       "  <tbody>\n",
       "    <tr>\n",
       "      <th>0</th>\n",
       "      <td>1</td>\n",
       "      <td>1</td>\n",
       "      <td>ryanfranco</td>\n",
       "      <td>4</td>\n",
       "    </tr>\n",
       "    <tr>\n",
       "      <th>1</th>\n",
       "      <td>2</td>\n",
       "      <td>1</td>\n",
       "      <td>grantpatricia</td>\n",
       "      <td>2</td>\n",
       "    </tr>\n",
       "    <tr>\n",
       "      <th>2</th>\n",
       "      <td>3</td>\n",
       "      <td>1</td>\n",
       "      <td>brandtandrea</td>\n",
       "      <td>5</td>\n",
       "    </tr>\n",
       "    <tr>\n",
       "      <th>3</th>\n",
       "      <td>4</td>\n",
       "      <td>2</td>\n",
       "      <td>lorichen</td>\n",
       "      <td>3</td>\n",
       "    </tr>\n",
       "    <tr>\n",
       "      <th>4</th>\n",
       "      <td>5</td>\n",
       "      <td>2</td>\n",
       "      <td>mariokeller</td>\n",
       "      <td>2</td>\n",
       "    </tr>\n",
       "  </tbody>\n",
       "</table>\n",
       "</div>"
      ],
      "text/plain": [
       "   rating_id  book_id       username  rating\n",
       "0          1        1     ryanfranco       4\n",
       "1          2        1  grantpatricia       2\n",
       "2          3        1   brandtandrea       5\n",
       "3          4        2       lorichen       3\n",
       "4          5        2    mariokeller       2"
      ]
     },
     "execution_count": 7,
     "metadata": {},
     "output_type": "execute_result"
    }
   ],
   "source": [
    "query = '''SELECT * \n",
    "           FROM ratings \n",
    "           LIMIT 5;'''\n",
    "con=engine.connect()\n",
    "pd.io.sql.read_sql(sql=text(query), con = con)"
   ]
  },
  {
   "cell_type": "markdown",
   "metadata": {},
   "source": [
    "**Таблица reviews**"
   ]
  },
  {
   "cell_type": "code",
   "execution_count": 8,
   "metadata": {
    "scrolled": true
   },
   "outputs": [
    {
     "data": {
      "text/html": [
       "<div>\n",
       "<style scoped>\n",
       "    .dataframe tbody tr th:only-of-type {\n",
       "        vertical-align: middle;\n",
       "    }\n",
       "\n",
       "    .dataframe tbody tr th {\n",
       "        vertical-align: top;\n",
       "    }\n",
       "\n",
       "    .dataframe thead th {\n",
       "        text-align: right;\n",
       "    }\n",
       "</style>\n",
       "<table border=\"1\" class=\"dataframe\">\n",
       "  <thead>\n",
       "    <tr style=\"text-align: right;\">\n",
       "      <th></th>\n",
       "      <th>review_id</th>\n",
       "      <th>book_id</th>\n",
       "      <th>username</th>\n",
       "      <th>text</th>\n",
       "    </tr>\n",
       "  </thead>\n",
       "  <tbody>\n",
       "    <tr>\n",
       "      <th>0</th>\n",
       "      <td>1</td>\n",
       "      <td>1</td>\n",
       "      <td>brandtandrea</td>\n",
       "      <td>Mention society tell send professor analysis. ...</td>\n",
       "    </tr>\n",
       "    <tr>\n",
       "      <th>1</th>\n",
       "      <td>2</td>\n",
       "      <td>1</td>\n",
       "      <td>ryanfranco</td>\n",
       "      <td>Foot glass pretty audience hit themselves. Amo...</td>\n",
       "    </tr>\n",
       "    <tr>\n",
       "      <th>2</th>\n",
       "      <td>3</td>\n",
       "      <td>2</td>\n",
       "      <td>lorichen</td>\n",
       "      <td>Listen treat keep worry. Miss husband tax but ...</td>\n",
       "    </tr>\n",
       "    <tr>\n",
       "      <th>3</th>\n",
       "      <td>4</td>\n",
       "      <td>3</td>\n",
       "      <td>johnsonamanda</td>\n",
       "      <td>Finally month interesting blue could nature cu...</td>\n",
       "    </tr>\n",
       "    <tr>\n",
       "      <th>4</th>\n",
       "      <td>5</td>\n",
       "      <td>3</td>\n",
       "      <td>scotttamara</td>\n",
       "      <td>Nation purpose heavy give wait song will. List...</td>\n",
       "    </tr>\n",
       "  </tbody>\n",
       "</table>\n",
       "</div>"
      ],
      "text/plain": [
       "   review_id  book_id       username  \\\n",
       "0          1        1   brandtandrea   \n",
       "1          2        1     ryanfranco   \n",
       "2          3        2       lorichen   \n",
       "3          4        3  johnsonamanda   \n",
       "4          5        3    scotttamara   \n",
       "\n",
       "                                                text  \n",
       "0  Mention society tell send professor analysis. ...  \n",
       "1  Foot glass pretty audience hit themselves. Amo...  \n",
       "2  Listen treat keep worry. Miss husband tax but ...  \n",
       "3  Finally month interesting blue could nature cu...  \n",
       "4  Nation purpose heavy give wait song will. List...  "
      ]
     },
     "execution_count": 8,
     "metadata": {},
     "output_type": "execute_result"
    }
   ],
   "source": [
    "query = '''SELECT * \n",
    "           FROM reviews \n",
    "           LIMIT 5;'''\n",
    "con=engine.connect()\n",
    "pd.io.sql.read_sql(sql=text(query), con = con)"
   ]
  },
  {
   "cell_type": "markdown",
   "metadata": {},
   "source": [
    "**Вывод:**\n",
    "\n",
    "На данном этапе работы были подключены библиотеки и загруженны данные. При рассмотрении данных можно заметить:\n",
    "\n",
    "- Многие авторы и издательства имеют несколько книг в базе данных.\n",
    "- Книги часто получают несколько оценок, что указывает на активность пользователей в оценке книг.\n",
    "- Количество обзоров меньше количества оценок, что может указывать на более низкую активность пользователей в написании обзоров по сравнению с оценкой книг.\n",
    "\n",
    "Эти выводы могут быть полезны для понимания структуры данных и активности пользователей в сервисе для чтения книг по подписке."
   ]
  },
  {
   "cell_type": "markdown",
   "metadata": {},
   "source": [
    "## Выполнение SQL-запросов"
   ]
  },
  {
   "cell_type": "markdown",
   "metadata": {},
   "source": [
    "# Задача 1: Посчитать количество книг, вышедших после 1 января 2000 года.\n",
    "\n"
   ]
  },
  {
   "cell_type": "code",
   "execution_count": 9,
   "metadata": {},
   "outputs": [
    {
     "name": "stdout",
     "output_type": "stream",
     "text": [
      "   books_after_2000\n",
      "0               819\n"
     ]
    }
   ],
   "source": [
    "query = \"\"\"SELECT COUNT(*) AS books_after_2000 \n",
    "         FROM books \n",
    "         WHERE publication_date > '2000-01-01';\"\"\"\n",
    "\n",
    "data = pd.read_sql(query, engine)\n",
    "\n",
    "print(data)"
   ]
  },
  {
   "cell_type": "markdown",
   "metadata": {},
   "source": [
    "После 1 января 2000 года вышло 819 книг."
   ]
  },
  {
   "cell_type": "markdown",
   "metadata": {},
   "source": [
    "# Задача 2: Для каждой книги посчитать количество обзоров и среднюю оценку.\n",
    "\n"
   ]
  },
  {
   "cell_type": "code",
   "execution_count": 21,
   "metadata": {},
   "outputs": [
    {
     "data": {
      "text/html": [
       "<div>\n",
       "<style scoped>\n",
       "    .dataframe tbody tr th:only-of-type {\n",
       "        vertical-align: middle;\n",
       "    }\n",
       "\n",
       "    .dataframe tbody tr th {\n",
       "        vertical-align: top;\n",
       "    }\n",
       "\n",
       "    .dataframe thead th {\n",
       "        text-align: right;\n",
       "    }\n",
       "</style>\n",
       "<table border=\"1\" class=\"dataframe\">\n",
       "  <thead>\n",
       "    <tr style=\"text-align: right;\">\n",
       "      <th></th>\n",
       "      <th>book_id</th>\n",
       "      <th>title</th>\n",
       "      <th>review_count</th>\n",
       "      <th>avg_rating</th>\n",
       "    </tr>\n",
       "  </thead>\n",
       "  <tbody>\n",
       "    <tr>\n",
       "      <th>901</th>\n",
       "      <td>902</td>\n",
       "      <td>The War of Art: Break Through the Blocks &amp; Win...</td>\n",
       "      <td>2</td>\n",
       "      <td>5.00</td>\n",
       "    </tr>\n",
       "    <tr>\n",
       "      <th>937</th>\n",
       "      <td>938</td>\n",
       "      <td>Triptych (Will Trent  #1)</td>\n",
       "      <td>2</td>\n",
       "      <td>5.00</td>\n",
       "    </tr>\n",
       "    <tr>\n",
       "      <th>517</th>\n",
       "      <td>518</td>\n",
       "      <td>Pop Goes the Weasel (Alex Cross  #5)</td>\n",
       "      <td>2</td>\n",
       "      <td>5.00</td>\n",
       "    </tr>\n",
       "    <tr>\n",
       "      <th>168</th>\n",
       "      <td>169</td>\n",
       "      <td>Crucial Conversations: Tools for Talking When ...</td>\n",
       "      <td>2</td>\n",
       "      <td>5.00</td>\n",
       "    </tr>\n",
       "    <tr>\n",
       "      <th>731</th>\n",
       "      <td>732</td>\n",
       "      <td>The Ghost Map: The Story of London's Most Terr...</td>\n",
       "      <td>2</td>\n",
       "      <td>5.00</td>\n",
       "    </tr>\n",
       "    <tr>\n",
       "      <th>...</th>\n",
       "      <td>...</td>\n",
       "      <td>...</td>\n",
       "      <td>...</td>\n",
       "      <td>...</td>\n",
       "    </tr>\n",
       "    <tr>\n",
       "      <th>914</th>\n",
       "      <td>915</td>\n",
       "      <td>The World Is Flat: A Brief History of the Twen...</td>\n",
       "      <td>3</td>\n",
       "      <td>2.25</td>\n",
       "    </tr>\n",
       "    <tr>\n",
       "      <th>315</th>\n",
       "      <td>316</td>\n",
       "      <td>His Excellency: George Washington</td>\n",
       "      <td>2</td>\n",
       "      <td>2.00</td>\n",
       "    </tr>\n",
       "    <tr>\n",
       "      <th>370</th>\n",
       "      <td>371</td>\n",
       "      <td>Junky</td>\n",
       "      <td>2</td>\n",
       "      <td>2.00</td>\n",
       "    </tr>\n",
       "    <tr>\n",
       "      <th>201</th>\n",
       "      <td>202</td>\n",
       "      <td>Drowning Ruth</td>\n",
       "      <td>3</td>\n",
       "      <td>2.00</td>\n",
       "    </tr>\n",
       "    <tr>\n",
       "      <th>302</th>\n",
       "      <td>303</td>\n",
       "      <td>Harvesting the Heart</td>\n",
       "      <td>2</td>\n",
       "      <td>1.50</td>\n",
       "    </tr>\n",
       "  </tbody>\n",
       "</table>\n",
       "<p>1000 rows × 4 columns</p>\n",
       "</div>"
      ],
      "text/plain": [
       "     book_id                                              title  review_count  \\\n",
       "901      902  The War of Art: Break Through the Blocks & Win...             2   \n",
       "937      938                          Triptych (Will Trent  #1)             2   \n",
       "517      518               Pop Goes the Weasel (Alex Cross  #5)             2   \n",
       "168      169  Crucial Conversations: Tools for Talking When ...             2   \n",
       "731      732  The Ghost Map: The Story of London's Most Terr...             2   \n",
       "..       ...                                                ...           ...   \n",
       "914      915  The World Is Flat: A Brief History of the Twen...             3   \n",
       "315      316                  His Excellency: George Washington             2   \n",
       "370      371                                              Junky             2   \n",
       "201      202                                      Drowning Ruth             3   \n",
       "302      303                               Harvesting the Heart             2   \n",
       "\n",
       "     avg_rating  \n",
       "901        5.00  \n",
       "937        5.00  \n",
       "517        5.00  \n",
       "168        5.00  \n",
       "731        5.00  \n",
       "..          ...  \n",
       "914        2.25  \n",
       "315        2.00  \n",
       "370        2.00  \n",
       "201        2.00  \n",
       "302        1.50  \n",
       "\n",
       "[1000 rows x 4 columns]"
      ]
     },
     "metadata": {},
     "output_type": "display_data"
    }
   ],
   "source": [
    "query = \"\"\"\n",
    "SELECT b.book_id, b.title, \n",
    "COUNT(DISTINCT r.review_id) AS review_count, \n",
    "AVG(rt.rating) AS avg_rating\n",
    "FROM books b\n",
    "LEFT JOIN reviews r ON b.book_id = r.book_id\n",
    "LEFT JOIN ratings rt ON b.book_id = rt.book_id\n",
    "GROUP BY b.book_id, b.title;\n",
    "\"\"\"\n",
    "\n",
    "data = pd.read_sql(query, engine)\n",
    "\n",
    "data = data.sort_values(by='avg_rating', ascending=False)\n",
    "display(data)"
   ]
  },
  {
   "cell_type": "code",
   "execution_count": 22,
   "metadata": {},
   "outputs": [
    {
     "name": "stdout",
     "output_type": "stream",
     "text": [
      "Максимальный средний рейтинг: 5.0\n",
      "Минимальный средний рейтинг: 1.5\n",
      "Максимальное количество обзоров: 7\n",
      "Минимальное количество обзоров: 0\n"
     ]
    }
   ],
   "source": [
    "max_avg_rating = data['avg_rating'].max()\n",
    "min_avg_rating = data['avg_rating'].min()\n",
    "max_review_count = data['review_count'].max()\n",
    "min_review_count = data['review_count'].min()\n",
    "\n",
    "print(f\"Максимальный средний рейтинг: {max_avg_rating}\")\n",
    "print(f\"Минимальный средний рейтинг: {min_avg_rating}\")\n",
    "print(f\"Максимальное количество обзоров: {max_review_count}\")\n",
    "print(f\"Минимальное количество обзоров: {min_review_count}\")"
   ]
  },
  {
   "cell_type": "code",
   "execution_count": 23,
   "metadata": {},
   "outputs": [
    {
     "name": "stdout",
     "output_type": "stream",
     "text": [
      "Общее количество отзывов в базе данных: 2793\n",
      "Сумма по столбцу review_count в DataFrame: 2793\n",
      "Сумма по столбцу review_count совпадает с общим количеством отзывов в базе данных.\n"
     ]
    }
   ],
   "source": [
    "total_reviews_query = \"\"\"SELECT COUNT(DISTINCT review_id) AS total_reviews \n",
    "                         FROM reviews;\"\"\"\n",
    "total_reviews_data = pd.read_sql(total_reviews_query, engine)\n",
    "total_reviews_from_db = total_reviews_data['total_reviews'].iloc[0]\n",
    "\n",
    "total_reviews_from_data = data['review_count'].sum()\n",
    "\n",
    "print(f\"Общее количество отзывов в базе данных: {total_reviews_from_db}\")\n",
    "print(f\"Сумма по столбцу review_count в DataFrame: {total_reviews_from_data}\")\n",
    "\n",
    "if total_reviews_from_db == total_reviews_from_data:\n",
    "    print(\"Сумма по столбцу review_count совпадает с общим количеством отзывов в базе данных.\")\n",
    "else:\n",
    "    print(\"Сумма по столбцу review_count не совпадает с общим количеством отзывов в базе данных.\")"
   ]
  },
  {
   "cell_type": "markdown",
   "metadata": {},
   "source": [
    "Сумма по столбцу review_count не совпадает с общим количеством отзывов в базе данных, это может указывать на несовершенство данных и возможные ошибки при формировании таблицы"
   ]
  },
  {
   "cell_type": "markdown",
   "metadata": {},
   "source": [
    "Вывод по итогу анализа:\n",
    "\n",
    "1. **Количество обзоров и средний рейтинг**:\n",
    "   - Было проанализировано 1000 книг.\n",
    "   - Максимальный средний рейтинг составил 5.0, а минимальный — 1.5.\n",
    "   - Максимальное количество обзоров для одной книги составило 7, а минимальное — 0.\n",
    "\n",
    "2. **Совпадение суммы обзоров**:\n",
    "   - Общее количество уникальных отзывов в базе данных составило 2793.\n",
    "   - Сумма количества обзоров по всем книгам в DataFrame также составила 2793.\n",
    "   - Это свидетельствует о том, что данные в DataFrame корректно отражают общее количество отзывов в базе данных.\n",
    "\n",
    "3. **Высокий средний рейтинг**:\n",
    "   - Некоторые книги имеют высокий средний рейтинг (5.0), что может указывать на их популярность и положительные отзывы читателей.\n",
    "\n",
    "4. **Низкий средний рейтинг**:\n",
    "   - Некоторые книги имеют низкий средний рейтинг (1.5), что может свидетельствовать о негативном восприятии этих книг читателями.\n",
    "\n",
    "5. **Разброс количества обзоров**:\n",
    "   - Существует значительный разброс в количестве обзоров для разных книг, от 0 до 7. Это может указывать на различную популярность книг среди читателей.\n",
    "\n",
    "В целом, анализ показал, что данные о количестве обзоров и средних оценках книг корректно отражаются в DataFrame и соответствуют данным в базе данных. Это позволяет сделать вывод о надежности и точности представленных данных."
   ]
  },
  {
   "cell_type": "markdown",
   "metadata": {},
   "source": [
    "# Задача 3: Определить издательство, выпустившее наибольшее число книг толще 50 страниц.\n"
   ]
  },
  {
   "cell_type": "code",
   "execution_count": 16,
   "metadata": {},
   "outputs": [
    {
     "data": {
      "text/html": [
       "<div>\n",
       "<style scoped>\n",
       "    .dataframe tbody tr th:only-of-type {\n",
       "        vertical-align: middle;\n",
       "    }\n",
       "\n",
       "    .dataframe tbody tr th {\n",
       "        vertical-align: top;\n",
       "    }\n",
       "\n",
       "    .dataframe thead th {\n",
       "        text-align: right;\n",
       "    }\n",
       "</style>\n",
       "<table border=\"1\" class=\"dataframe\">\n",
       "  <thead>\n",
       "    <tr style=\"text-align: right;\">\n",
       "      <th></th>\n",
       "      <th>publisher_id</th>\n",
       "      <th>publisher</th>\n",
       "      <th>book_count</th>\n",
       "    </tr>\n",
       "  </thead>\n",
       "  <tbody>\n",
       "    <tr>\n",
       "      <th>0</th>\n",
       "      <td>212</td>\n",
       "      <td>Penguin Books</td>\n",
       "      <td>42</td>\n",
       "    </tr>\n",
       "  </tbody>\n",
       "</table>\n",
       "</div>"
      ],
      "text/plain": [
       "   publisher_id      publisher  book_count\n",
       "0           212  Penguin Books          42"
      ]
     },
     "metadata": {},
     "output_type": "display_data"
    }
   ],
   "source": [
    "query = \"\"\"\n",
    "SELECT \n",
    "    p.publisher_id,\n",
    "    p.publisher,\n",
    "    COUNT(b.book_id) AS book_count\n",
    "FROM books b\n",
    "JOIN publishers p ON b.publisher_id = p.publisher_id\n",
    "WHERE b.num_pages > 50\n",
    "GROUP BY p.publisher_id, p.publisher\n",
    "ORDER BY book_count DESC\n",
    "LIMIT 1;\n",
    "\"\"\"\n",
    "\n",
    "data = pd.read_sql(query, engine)\n",
    "\n",
    "display(data)"
   ]
  },
  {
   "cell_type": "markdown",
   "metadata": {},
   "source": [
    "Издательство, выпустившее наибольшее число книг толще 50 страниц - Penguin Books"
   ]
  },
  {
   "cell_type": "markdown",
   "metadata": {},
   "source": [
    "# Задача 4: Определить автора с самой высокой средней оценкой книг, учитывая только книги с 50 и более оценками.\n"
   ]
  },
  {
   "cell_type": "code",
   "execution_count": 18,
   "metadata": {},
   "outputs": [
    {
     "data": {
      "text/html": [
       "<div>\n",
       "<style scoped>\n",
       "    .dataframe tbody tr th:only-of-type {\n",
       "        vertical-align: middle;\n",
       "    }\n",
       "\n",
       "    .dataframe tbody tr th {\n",
       "        vertical-align: top;\n",
       "    }\n",
       "\n",
       "    .dataframe thead th {\n",
       "        text-align: right;\n",
       "    }\n",
       "</style>\n",
       "<table border=\"1\" class=\"dataframe\">\n",
       "  <thead>\n",
       "    <tr style=\"text-align: right;\">\n",
       "      <th></th>\n",
       "      <th>author_id</th>\n",
       "      <th>author</th>\n",
       "      <th>author_avg_rating</th>\n",
       "    </tr>\n",
       "  </thead>\n",
       "  <tbody>\n",
       "    <tr>\n",
       "      <th>0</th>\n",
       "      <td>236</td>\n",
       "      <td>J.K. Rowling/Mary GrandPré</td>\n",
       "      <td>4.283844</td>\n",
       "    </tr>\n",
       "  </tbody>\n",
       "</table>\n",
       "</div>"
      ],
      "text/plain": [
       "   author_id                      author  author_avg_rating\n",
       "0        236  J.K. Rowling/Mary GrandPré           4.283844"
      ]
     },
     "metadata": {},
     "output_type": "display_data"
    }
   ],
   "source": [
    "query = \"\"\"\n",
    "WITH book_ratings AS (\n",
    "    SELECT \n",
    "        b.author_id,\n",
    "        b.book_id,\n",
    "        AVG(r.rating) AS avg_rating,\n",
    "        COUNT(r.rating_id) AS rating_count\n",
    "    FROM books b\n",
    "    JOIN ratings r ON b.book_id = r.book_id\n",
    "    GROUP BY b.author_id, b.book_id\n",
    "    HAVING COUNT(r.rating_id) >= 50\n",
    "),\n",
    "author_avg_ratings AS (\n",
    "    SELECT \n",
    "        br.author_id,\n",
    "        AVG(br.avg_rating) AS author_avg_rating\n",
    "    FROM book_ratings br\n",
    "    GROUP BY br.author_id\n",
    ")\n",
    "SELECT \n",
    "    a.author_id,\n",
    "    a.author,\n",
    "    aar.author_avg_rating\n",
    "FROM authors a\n",
    "JOIN author_avg_ratings aar ON a.author_id = aar.author_id\n",
    "ORDER BY aar.author_avg_rating DESC\n",
    "LIMIT 1;\n",
    "\"\"\"\n",
    "\n",
    "data = pd.read_sql(query, engine)\n",
    "\n",
    "display(data)"
   ]
  },
  {
   "cell_type": "markdown",
   "metadata": {},
   "source": [
    "Автор с самой высокой средней оценкой книг, учитывая только книги с 50 и более оценками - J.K. Rowling/Mary GrandPré."
   ]
  },
  {
   "cell_type": "markdown",
   "metadata": {},
   "source": [
    "# Задача 5: Посчитать среднее количество обзоров от пользователей, которые поставили больше 48 оценок."
   ]
  },
  {
   "cell_type": "code",
   "execution_count": 19,
   "metadata": {},
   "outputs": [
    {
     "data": {
      "text/html": [
       "<div>\n",
       "<style scoped>\n",
       "    .dataframe tbody tr th:only-of-type {\n",
       "        vertical-align: middle;\n",
       "    }\n",
       "\n",
       "    .dataframe tbody tr th {\n",
       "        vertical-align: top;\n",
       "    }\n",
       "\n",
       "    .dataframe thead th {\n",
       "        text-align: right;\n",
       "    }\n",
       "</style>\n",
       "<table border=\"1\" class=\"dataframe\">\n",
       "  <thead>\n",
       "    <tr style=\"text-align: right;\">\n",
       "      <th></th>\n",
       "      <th>average_reviews</th>\n",
       "    </tr>\n",
       "  </thead>\n",
       "  <tbody>\n",
       "    <tr>\n",
       "      <th>0</th>\n",
       "      <td>24.0</td>\n",
       "    </tr>\n",
       "  </tbody>\n",
       "</table>\n",
       "</div>"
      ],
      "text/plain": [
       "   average_reviews\n",
       "0             24.0"
      ]
     },
     "metadata": {},
     "output_type": "display_data"
    }
   ],
   "source": [
    "query = \"\"\"\n",
    "WITH user_reviews AS (\n",
    "    SELECT \n",
    "        r.username,\n",
    "        COUNT(r.review_id) AS review_count\n",
    "    FROM reviews r\n",
    "    JOIN (\n",
    "        SELECT \n",
    "            username\n",
    "        FROM ratings\n",
    "        GROUP BY username\n",
    "        HAVING COUNT(rating_id) > 48\n",
    "    ) u ON r.username = u.username\n",
    "    GROUP BY r.username\n",
    ")\n",
    "SELECT AVG(review_count) AS average_reviews\n",
    "FROM user_reviews;\n",
    "\n",
    "\"\"\"\n",
    "\n",
    "data = pd.read_sql(query, engine)\n",
    "\n",
    "display(data)"
   ]
  },
  {
   "cell_type": "markdown",
   "metadata": {},
   "source": [
    "Среднее количество обзоров от пользователей, которые поставили больше 48 оценок - 24"
   ]
  },
  {
   "cell_type": "markdown",
   "metadata": {},
   "source": [
    "## Вывод:\n",
    "\n",
    "Вывод:\n",
    "\n",
    "Проведенный анализ базы данных сервиса для чтения книг по подписке позволил сделать несколько важных выводов, которые могут быть полезны для понимания структуры данных, активности пользователей и качества книг в сервисе.\n",
    "\n",
    "1. **Размеры таблиц**:\n",
    "   - Таблица 'books' содержит 1000 записей, что указывает на количество книг в базе данных.\n",
    "   - Таблица 'authors' содержит 636 записей, что говорит о количестве авторов. Учитывая, что количество авторов меньше количества книг, можно предположить, что многие авторы написали более одной книги.\n",
    "   - Таблица 'publishers' содержит 340 записей, что указывает на количество издательств. Это число значительно меньше количества книг, что свидетельствует о том, что многие издательства выпустили несколько книг.\n",
    "   - Таблица 'ratings' содержит 6456 записей, что указывает на количество оценок, которые пользователи поставили книгам. Это число значительно превышает количество книг, что говорит о том, что многие книги получили несколько оценок.\n",
    "   - Таблица 'reviews' содержит 2793 записей, что указывает на количество обзоров, оставленных пользователями. Это число меньше количества оценок, что может означать, что не все пользователи оставляют обзоры, или что не все книги получили обзоры.\n",
    "\n",
    "2. **Анализ книг, вышедших после 1 января 2000 года**:\n",
    "   - После 1 января 2000 года вышло 819 книг. Это указывает на активность издательств и авторов в выпуске новых книг в последние годы.\n",
    "\n",
    "3. **Количество обзоров и средние оценки книг**:\n",
    "  \n",
    "   - Было проанализировано 1000 книг.\n",
    "   - Максимальный средний рейтинг составил 5.0, а минимальный — 1.5.\n",
    "   - Максимальное количество обзоров для одной книги составило 7, а минимальное — 0.\n",
    "   - Общее количество уникальных отзывов в базе данных составило 2793.\n",
    "   - Сумма количества обзоров по всем книгам в DataFrame также составила 2793.\n",
    "   - Это свидетельствует о том, что данные в DataFrame корректно отражают общее количество отзывов в базе данных.\n",
    "   - Некоторые книги имеют высокий средний рейтинг (5.0), что может указывать на их популярность и положительные отзывы читателей.\n",
    "   - Некоторые книги имеют низкий средний рейтинг (1.5), что может свидетельствовать о негативном восприятии этих книг читателями.\n",
    "   - Существует значительный разброс в количестве обзоров для разных книг, от 0 до 7. Это может указывать на различную популярность книг среди читателей.\n",
    "\n",
    "В целом, анализ показал, что данные о количестве обзоров и средних оценках книг корректно отражаются в DataFrame и соответствуют данным в базе данных. Это позволяет сделать вывод о надежности и точности представленных данных.\n",
    "\n",
    "4. **Издательство с наибольшим количеством книг толще 50 страниц**:\n",
    "   - Издательство \"Penguin Books\" выпустило наибольшее число книг толще 50 страниц. Это может свидетельствовать о популярности и активности данного издательства на рынке.\n",
    "\n",
    "5. **Автор с самой высокой средней оценкой книг**:\n",
    "   - Автор с самой высокой средней оценкой книг, учитывая только книги с 50 и более оценками, - J.K. Rowling/Mary GrandPré. Это может быть рекомендацией для читателей, ищущих книги высокого качества.\n",
    "\n",
    "6. **Среднее количество обзоров от пользователей, которые поставили больше 48 оценок**:\n",
    "   - Среднее количество обзоров от пользователей, которые поставили больше 48 оценок, составляет 24. Это указывает на активность пользователей в написании обзоров после того, как они оставили достаточное количество оценок.\n",
    "\n",
    "В целом, анализ данных позволяет получить ценную информацию о структуре базы данных, активности пользователей и качестве книг в сервисе для чтения книг по подписке. Эти выводы могут быть использованы для улучшения сервиса, рекомендаций для пользователей и стратегий издательств и авторов."
   ]
  },
  {
   "cell_type": "code",
   "execution_count": null,
   "metadata": {},
   "outputs": [],
   "source": []
  }
 ],
 "metadata": {
  "ExecuteTimeLog": [
   {
    "duration": 62,
    "start_time": "2024-07-08T18:04:55.132Z"
   },
   {
    "duration": 80,
    "start_time": "2024-07-08T18:05:17.941Z"
   },
   {
    "duration": 493,
    "start_time": "2024-07-08T18:17:02.210Z"
   },
   {
    "duration": 6236,
    "start_time": "2024-07-08T18:17:30.783Z"
   },
   {
    "duration": 62,
    "start_time": "2024-07-08T18:17:47.337Z"
   },
   {
    "duration": 57,
    "start_time": "2024-07-08T18:18:08.229Z"
   },
   {
    "duration": 59,
    "start_time": "2024-07-08T18:19:13.510Z"
   },
   {
    "duration": 145,
    "start_time": "2024-07-08T18:19:38.953Z"
   },
   {
    "duration": 472,
    "start_time": "2024-07-08T18:20:47.878Z"
   },
   {
    "duration": 6177,
    "start_time": "2024-07-08T18:20:48.352Z"
   },
   {
    "duration": 50,
    "start_time": "2024-07-08T18:20:54.530Z"
   },
   {
    "duration": 92,
    "start_time": "2024-07-08T18:22:03.918Z"
   },
   {
    "duration": 5,
    "start_time": "2024-07-08T18:22:21.052Z"
   },
   {
    "duration": 41,
    "start_time": "2024-07-08T18:23:06.510Z"
   },
   {
    "duration": 29,
    "start_time": "2024-07-08T18:23:09.610Z"
   },
   {
    "duration": 9,
    "start_time": "2024-07-08T18:23:12.659Z"
   },
   {
    "duration": 10,
    "start_time": "2024-07-08T18:23:15.201Z"
   },
   {
    "duration": 10,
    "start_time": "2024-07-08T18:23:17.943Z"
   },
   {
    "duration": 8,
    "start_time": "2024-07-08T18:25:39.416Z"
   },
   {
    "duration": 465,
    "start_time": "2024-07-08T18:38:55.275Z"
   },
   {
    "duration": 6471,
    "start_time": "2024-07-08T18:38:55.742Z"
   },
   {
    "duration": 48,
    "start_time": "2024-07-08T18:39:02.214Z"
   },
   {
    "duration": 56,
    "start_time": "2024-07-08T18:39:02.264Z"
   },
   {
    "duration": 63,
    "start_time": "2024-07-08T18:39:02.322Z"
   },
   {
    "duration": 18,
    "start_time": "2024-07-08T18:39:02.387Z"
   },
   {
    "duration": 22,
    "start_time": "2024-07-08T18:39:02.407Z"
   },
   {
    "duration": 15,
    "start_time": "2024-07-08T18:39:02.430Z"
   },
   {
    "duration": 24,
    "start_time": "2024-07-08T18:43:21.084Z"
   },
   {
    "duration": 8,
    "start_time": "2024-07-08T18:43:27.244Z"
   },
   {
    "duration": 24,
    "start_time": "2024-07-08T18:43:38.562Z"
   },
   {
    "duration": 7,
    "start_time": "2024-07-08T18:45:22.205Z"
   },
   {
    "duration": 11,
    "start_time": "2024-07-08T18:45:30.579Z"
   },
   {
    "duration": 3,
    "start_time": "2024-07-08T18:45:48.799Z"
   },
   {
    "duration": 2,
    "start_time": "2024-07-08T18:45:51.558Z"
   },
   {
    "duration": 16,
    "start_time": "2024-07-08T18:47:42.664Z"
   },
   {
    "duration": 2,
    "start_time": "2024-07-08T18:51:20.804Z"
   },
   {
    "duration": 10,
    "start_time": "2024-07-08T18:52:27.128Z"
   },
   {
    "duration": 79,
    "start_time": "2024-07-08T18:53:29.095Z"
   },
   {
    "duration": 18,
    "start_time": "2024-07-08T18:53:42.390Z"
   },
   {
    "duration": 8,
    "start_time": "2024-07-08T18:54:03.953Z"
   },
   {
    "duration": 10,
    "start_time": "2024-07-08T18:55:46.597Z"
   },
   {
    "duration": 7,
    "start_time": "2024-07-08T18:59:16.048Z"
   },
   {
    "duration": 33,
    "start_time": "2024-07-08T19:00:13.913Z"
   },
   {
    "duration": 26,
    "start_time": "2024-07-08T19:02:52.888Z"
   },
   {
    "duration": 12,
    "start_time": "2024-07-08T19:06:41.675Z"
   },
   {
    "duration": 13,
    "start_time": "2024-07-08T19:08:08.055Z"
   },
   {
    "duration": 12,
    "start_time": "2024-07-08T19:08:33.803Z"
   },
   {
    "duration": 767,
    "start_time": "2024-07-08T19:12:16.506Z"
   },
   {
    "duration": 27,
    "start_time": "2024-07-08T19:12:34.200Z"
   },
   {
    "duration": 5,
    "start_time": "2024-07-08T19:12:40.099Z"
   },
   {
    "duration": 514,
    "start_time": "2024-07-08T19:17:11.695Z"
   },
   {
    "duration": 6764,
    "start_time": "2024-07-08T19:17:12.211Z"
   },
   {
    "duration": 47,
    "start_time": "2024-07-08T19:17:18.977Z"
   },
   {
    "duration": 15,
    "start_time": "2024-07-08T19:17:19.026Z"
   },
   {
    "duration": 39,
    "start_time": "2024-07-08T19:17:19.043Z"
   },
   {
    "duration": 8,
    "start_time": "2024-07-08T19:17:19.083Z"
   },
   {
    "duration": 9,
    "start_time": "2024-07-08T19:17:19.093Z"
   },
   {
    "duration": 10,
    "start_time": "2024-07-08T19:17:19.103Z"
   },
   {
    "duration": 6,
    "start_time": "2024-07-08T19:17:19.114Z"
   },
   {
    "duration": 31,
    "start_time": "2024-07-08T19:17:19.122Z"
   },
   {
    "duration": 5,
    "start_time": "2024-07-08T19:17:19.154Z"
   },
   {
    "duration": 16,
    "start_time": "2024-07-08T19:17:19.160Z"
   },
   {
    "duration": 13,
    "start_time": "2024-07-08T19:17:19.177Z"
   },
   {
    "duration": 33,
    "start_time": "2024-07-08T19:17:19.191Z"
   },
   {
    "duration": 47,
    "start_time": "2024-07-09T09:21:50.455Z"
   },
   {
    "duration": 789,
    "start_time": "2024-07-09T09:21:59.247Z"
   },
   {
    "duration": 6693,
    "start_time": "2024-07-09T09:22:00.038Z"
   },
   {
    "duration": 339,
    "start_time": "2024-07-09T09:22:06.733Z"
   },
   {
    "duration": 56,
    "start_time": "2024-07-09T09:22:07.073Z"
   },
   {
    "duration": 195,
    "start_time": "2024-07-09T09:22:07.131Z"
   },
   {
    "duration": 52,
    "start_time": "2024-07-09T09:22:07.328Z"
   },
   {
    "duration": 52,
    "start_time": "2024-07-09T09:22:07.382Z"
   },
   {
    "duration": 52,
    "start_time": "2024-07-09T09:22:07.436Z"
   },
   {
    "duration": 72,
    "start_time": "2024-07-09T09:22:07.490Z"
   },
   {
    "duration": 112,
    "start_time": "2024-07-09T09:22:07.563Z"
   },
   {
    "duration": 5,
    "start_time": "2024-07-09T09:22:07.676Z"
   },
   {
    "duration": 94,
    "start_time": "2024-07-09T09:22:07.683Z"
   },
   {
    "duration": 77,
    "start_time": "2024-07-09T09:22:07.778Z"
   },
   {
    "duration": 75,
    "start_time": "2024-07-09T09:22:07.857Z"
   },
   {
    "duration": 71,
    "start_time": "2024-07-09T09:23:16.553Z"
   },
   {
    "duration": 59,
    "start_time": "2024-07-09T09:25:39.567Z"
   },
   {
    "duration": 508,
    "start_time": "2024-07-09T10:13:52.012Z"
   },
   {
    "duration": 6968,
    "start_time": "2024-07-09T10:13:52.522Z"
   },
   {
    "duration": 313,
    "start_time": "2024-07-09T10:13:59.492Z"
   },
   {
    "duration": 49,
    "start_time": "2024-07-09T10:13:59.807Z"
   },
   {
    "duration": 130,
    "start_time": "2024-07-09T10:13:59.857Z"
   },
   {
    "duration": 51,
    "start_time": "2024-07-09T10:13:59.989Z"
   },
   {
    "duration": 51,
    "start_time": "2024-07-09T10:14:00.042Z"
   },
   {
    "duration": 51,
    "start_time": "2024-07-09T10:14:00.095Z"
   },
   {
    "duration": 71,
    "start_time": "2024-07-09T10:14:00.148Z"
   },
   {
    "duration": 120,
    "start_time": "2024-07-09T10:14:00.222Z"
   },
   {
    "duration": 6,
    "start_time": "2024-07-09T10:14:00.344Z"
   },
   {
    "duration": 293,
    "start_time": "2024-07-09T10:14:00.352Z"
   },
   {
    "duration": 75,
    "start_time": "2024-07-09T10:14:00.647Z"
   },
   {
    "duration": 75,
    "start_time": "2024-07-09T10:14:00.723Z"
   },
   {
    "duration": 220,
    "start_time": "2024-07-09T10:15:32.011Z"
   },
   {
    "duration": 111,
    "start_time": "2024-07-09T10:15:49.550Z"
   },
   {
    "duration": 113,
    "start_time": "2024-07-09T10:16:02.223Z"
   },
   {
    "duration": 111,
    "start_time": "2024-07-09T10:16:19.250Z"
   },
   {
    "duration": 109,
    "start_time": "2024-07-09T10:16:48.605Z"
   },
   {
    "duration": 4,
    "start_time": "2024-07-09T11:00:44.723Z"
   },
   {
    "duration": 49,
    "start_time": "2024-07-09T11:04:09.996Z"
   },
   {
    "duration": 542,
    "start_time": "2024-07-09T11:04:21.165Z"
   },
   {
    "duration": 6499,
    "start_time": "2024-07-09T11:04:21.709Z"
   },
   {
    "duration": 320,
    "start_time": "2024-07-09T11:04:28.210Z"
   },
   {
    "duration": 48,
    "start_time": "2024-07-09T11:04:28.532Z"
   },
   {
    "duration": 123,
    "start_time": "2024-07-09T11:04:28.582Z"
   },
   {
    "duration": 52,
    "start_time": "2024-07-09T11:04:28.706Z"
   },
   {
    "duration": 52,
    "start_time": "2024-07-09T11:04:28.759Z"
   },
   {
    "duration": 51,
    "start_time": "2024-07-09T11:04:28.813Z"
   },
   {
    "duration": 68,
    "start_time": "2024-07-09T11:04:28.866Z"
   },
   {
    "duration": 108,
    "start_time": "2024-07-09T11:04:28.937Z"
   },
   {
    "duration": 97,
    "start_time": "2024-07-09T11:04:29.047Z"
   },
   {
    "duration": 5,
    "start_time": "2024-07-09T11:04:29.146Z"
   },
   {
    "duration": 73,
    "start_time": "2024-07-09T11:04:29.153Z"
   },
   {
    "duration": 3,
    "start_time": "2024-07-09T11:04:29.228Z"
   },
   {
    "duration": 76,
    "start_time": "2024-07-09T11:04:29.233Z"
   },
   {
    "duration": 72,
    "start_time": "2024-07-09T11:04:29.311Z"
   },
   {
    "duration": 592,
    "start_time": "2024-07-09T11:22:25.948Z"
   },
   {
    "duration": 7347,
    "start_time": "2024-07-09T11:22:26.542Z"
   },
   {
    "duration": 321,
    "start_time": "2024-07-09T11:22:33.890Z"
   },
   {
    "duration": 53,
    "start_time": "2024-07-09T11:22:34.213Z"
   },
   {
    "duration": 122,
    "start_time": "2024-07-09T11:22:34.268Z"
   },
   {
    "duration": 53,
    "start_time": "2024-07-09T11:22:34.392Z"
   },
   {
    "duration": 55,
    "start_time": "2024-07-09T11:22:34.447Z"
   },
   {
    "duration": 55,
    "start_time": "2024-07-09T11:22:34.504Z"
   },
   {
    "duration": 70,
    "start_time": "2024-07-09T11:22:34.561Z"
   },
   {
    "duration": 115,
    "start_time": "2024-07-09T11:22:34.635Z"
   },
   {
    "duration": 99,
    "start_time": "2024-07-09T11:22:34.752Z"
   },
   {
    "duration": 6,
    "start_time": "2024-07-09T11:22:34.852Z"
   },
   {
    "duration": 82,
    "start_time": "2024-07-09T11:22:34.860Z"
   },
   {
    "duration": 3,
    "start_time": "2024-07-09T11:22:34.947Z"
   },
   {
    "duration": 103,
    "start_time": "2024-07-09T11:22:34.952Z"
   },
   {
    "duration": 72,
    "start_time": "2024-07-09T11:22:35.056Z"
   },
   {
    "duration": 1194,
    "start_time": "2024-07-09T11:33:10.898Z"
   },
   {
    "duration": 1104,
    "start_time": "2024-07-09T11:33:39.437Z"
   },
   {
    "duration": 520,
    "start_time": "2024-07-09T11:34:23.379Z"
   },
   {
    "duration": 6407,
    "start_time": "2024-07-09T11:34:23.901Z"
   },
   {
    "duration": 314,
    "start_time": "2024-07-09T11:34:30.310Z"
   },
   {
    "duration": 51,
    "start_time": "2024-07-09T11:34:30.626Z"
   },
   {
    "duration": 122,
    "start_time": "2024-07-09T11:34:30.679Z"
   },
   {
    "duration": 52,
    "start_time": "2024-07-09T11:34:30.802Z"
   },
   {
    "duration": 63,
    "start_time": "2024-07-09T11:34:30.855Z"
   },
   {
    "duration": 52,
    "start_time": "2024-07-09T11:34:30.919Z"
   },
   {
    "duration": 71,
    "start_time": "2024-07-09T11:34:30.973Z"
   },
   {
    "duration": 111,
    "start_time": "2024-07-09T11:34:31.045Z"
   },
   {
    "duration": 100,
    "start_time": "2024-07-09T11:34:31.158Z"
   },
   {
    "duration": 47,
    "start_time": "2024-07-09T11:34:31.260Z"
   },
   {
    "duration": 1258,
    "start_time": "2024-07-09T11:34:31.309Z"
   },
   {
    "duration": 0,
    "start_time": "2024-07-09T11:34:32.569Z"
   },
   {
    "duration": 0,
    "start_time": "2024-07-09T11:34:32.570Z"
   },
   {
    "duration": 0,
    "start_time": "2024-07-09T11:34:32.571Z"
   },
   {
    "duration": 0,
    "start_time": "2024-07-09T11:34:32.572Z"
   },
   {
    "duration": 71,
    "start_time": "2024-07-09T11:37:57.725Z"
   },
   {
    "duration": 3,
    "start_time": "2024-07-09T11:39:07.882Z"
   },
   {
    "duration": 71,
    "start_time": "2024-07-09T11:39:26.016Z"
   },
   {
    "duration": 84,
    "start_time": "2024-07-09T11:39:45.443Z"
   },
   {
    "duration": 72,
    "start_time": "2024-07-09T11:46:01.131Z"
   },
   {
    "duration": 453,
    "start_time": "2024-07-09T19:44:33.543Z"
   },
   {
    "duration": 4731,
    "start_time": "2024-07-09T19:44:33.997Z"
   },
   {
    "duration": 59,
    "start_time": "2024-07-09T19:44:38.729Z"
   },
   {
    "duration": 16,
    "start_time": "2024-07-09T19:44:38.789Z"
   },
   {
    "duration": 31,
    "start_time": "2024-07-09T19:44:38.806Z"
   },
   {
    "duration": 8,
    "start_time": "2024-07-09T19:44:38.839Z"
   },
   {
    "duration": 16,
    "start_time": "2024-07-09T19:44:38.848Z"
   },
   {
    "duration": 10,
    "start_time": "2024-07-09T19:44:38.865Z"
   },
   {
    "duration": 7,
    "start_time": "2024-07-09T19:44:38.876Z"
   },
   {
    "duration": 26,
    "start_time": "2024-07-09T19:44:38.885Z"
   },
   {
    "duration": 25,
    "start_time": "2024-07-09T19:44:38.912Z"
   },
   {
    "duration": 5,
    "start_time": "2024-07-09T19:44:38.938Z"
   },
   {
    "duration": 15,
    "start_time": "2024-07-09T19:44:38.944Z"
   },
   {
    "duration": 8,
    "start_time": "2024-07-09T19:44:38.960Z"
   },
   {
    "duration": 42,
    "start_time": "2024-07-09T19:44:38.970Z"
   },
   {
    "duration": 12,
    "start_time": "2024-07-09T19:44:39.013Z"
   },
   {
    "duration": 20,
    "start_time": "2024-07-09T19:44:39.027Z"
   },
   {
    "duration": 12,
    "start_time": "2024-07-09T19:44:39.048Z"
   },
   {
    "duration": 27,
    "start_time": "2024-07-09T19:49:43.713Z"
   },
   {
    "duration": 586,
    "start_time": "2024-07-09T20:16:34.949Z"
   },
   {
    "duration": 6441,
    "start_time": "2024-07-09T20:16:35.537Z"
   },
   {
    "duration": 315,
    "start_time": "2024-07-09T20:16:41.980Z"
   },
   {
    "duration": 49,
    "start_time": "2024-07-09T20:16:42.297Z"
   },
   {
    "duration": 132,
    "start_time": "2024-07-09T20:16:42.348Z"
   },
   {
    "duration": 50,
    "start_time": "2024-07-09T20:16:42.482Z"
   },
   {
    "duration": 50,
    "start_time": "2024-07-09T20:16:42.534Z"
   },
   {
    "duration": 52,
    "start_time": "2024-07-09T20:16:42.586Z"
   },
   {
    "duration": 67,
    "start_time": "2024-07-09T20:16:42.640Z"
   },
   {
    "duration": 107,
    "start_time": "2024-07-09T20:16:42.710Z"
   },
   {
    "duration": 97,
    "start_time": "2024-07-09T20:16:42.819Z"
   },
   {
    "duration": 6,
    "start_time": "2024-07-09T20:16:42.918Z"
   },
   {
    "duration": 68,
    "start_time": "2024-07-09T20:16:42.925Z"
   },
   {
    "duration": 70,
    "start_time": "2024-07-09T20:16:42.994Z"
   },
   {
    "duration": 69,
    "start_time": "2024-07-09T20:16:43.066Z"
   },
   {
    "duration": 3,
    "start_time": "2024-07-09T20:16:43.136Z"
   },
   {
    "duration": 75,
    "start_time": "2024-07-09T20:16:43.140Z"
   },
   {
    "duration": 70,
    "start_time": "2024-07-09T20:16:43.217Z"
   },
   {
    "duration": 209,
    "start_time": "2024-07-09T20:18:55.688Z"
   },
   {
    "duration": 152,
    "start_time": "2024-07-09T20:20:22.212Z"
   },
   {
    "duration": 1081,
    "start_time": "2024-07-09T20:20:52.630Z"
   },
   {
    "duration": 505,
    "start_time": "2024-07-09T20:22:59.190Z"
   },
   {
    "duration": 6544,
    "start_time": "2024-07-09T20:22:59.697Z"
   },
   {
    "duration": 307,
    "start_time": "2024-07-09T20:23:06.244Z"
   },
   {
    "duration": 48,
    "start_time": "2024-07-09T20:23:06.552Z"
   },
   {
    "duration": 114,
    "start_time": "2024-07-09T20:23:06.602Z"
   },
   {
    "duration": 50,
    "start_time": "2024-07-09T20:23:06.717Z"
   },
   {
    "duration": 50,
    "start_time": "2024-07-09T20:23:06.769Z"
   },
   {
    "duration": 50,
    "start_time": "2024-07-09T20:23:06.821Z"
   },
   {
    "duration": 69,
    "start_time": "2024-07-09T20:23:06.872Z"
   },
   {
    "duration": 109,
    "start_time": "2024-07-09T20:23:06.942Z"
   },
   {
    "duration": 99,
    "start_time": "2024-07-09T20:23:07.052Z"
   },
   {
    "duration": 5,
    "start_time": "2024-07-09T20:23:07.153Z"
   },
   {
    "duration": 74,
    "start_time": "2024-07-09T20:23:07.160Z"
   },
   {
    "duration": 71,
    "start_time": "2024-07-09T20:23:07.236Z"
   },
   {
    "duration": 71,
    "start_time": "2024-07-09T20:23:07.309Z"
   },
   {
    "duration": 2,
    "start_time": "2024-07-09T20:23:07.382Z"
   },
   {
    "duration": 82,
    "start_time": "2024-07-09T20:23:07.386Z"
   },
   {
    "duration": 74,
    "start_time": "2024-07-09T20:23:07.470Z"
   },
   {
    "duration": 205,
    "start_time": "2024-07-09T20:25:06.422Z"
   },
   {
    "duration": 153,
    "start_time": "2024-07-09T20:26:09.979Z"
   },
   {
    "duration": 1047,
    "start_time": "2024-07-09T20:26:48.588Z"
   },
   {
    "duration": 537,
    "start_time": "2024-07-09T20:27:00.802Z"
   },
   {
    "duration": 7293,
    "start_time": "2024-07-09T20:27:01.341Z"
   },
   {
    "duration": 306,
    "start_time": "2024-07-09T20:27:08.636Z"
   },
   {
    "duration": 48,
    "start_time": "2024-07-09T20:27:08.944Z"
   },
   {
    "duration": 115,
    "start_time": "2024-07-09T20:27:08.994Z"
   },
   {
    "duration": 50,
    "start_time": "2024-07-09T20:27:09.110Z"
   },
   {
    "duration": 51,
    "start_time": "2024-07-09T20:27:09.162Z"
   },
   {
    "duration": 52,
    "start_time": "2024-07-09T20:27:09.214Z"
   },
   {
    "duration": 69,
    "start_time": "2024-07-09T20:27:09.267Z"
   },
   {
    "duration": 108,
    "start_time": "2024-07-09T20:27:09.338Z"
   },
   {
    "duration": 96,
    "start_time": "2024-07-09T20:27:09.448Z"
   },
   {
    "duration": 5,
    "start_time": "2024-07-09T20:27:09.546Z"
   },
   {
    "duration": 70,
    "start_time": "2024-07-09T20:27:09.553Z"
   },
   {
    "duration": 69,
    "start_time": "2024-07-09T20:27:09.626Z"
   },
   {
    "duration": 70,
    "start_time": "2024-07-09T20:27:09.697Z"
   },
   {
    "duration": 72,
    "start_time": "2024-07-09T20:27:09.769Z"
   },
   {
    "duration": 2,
    "start_time": "2024-07-09T20:27:09.843Z"
   },
   {
    "duration": 77,
    "start_time": "2024-07-09T20:27:09.847Z"
   },
   {
    "duration": 73,
    "start_time": "2024-07-09T20:27:09.925Z"
   },
   {
    "duration": 1297,
    "start_time": "2024-07-09T20:30:52.057Z"
   },
   {
    "duration": 511,
    "start_time": "2024-07-09T20:31:02.096Z"
   },
   {
    "duration": 7271,
    "start_time": "2024-07-09T20:31:02.609Z"
   },
   {
    "duration": 318,
    "start_time": "2024-07-09T20:31:09.882Z"
   },
   {
    "duration": 48,
    "start_time": "2024-07-09T20:31:10.202Z"
   },
   {
    "duration": 115,
    "start_time": "2024-07-09T20:31:10.251Z"
   },
   {
    "duration": 51,
    "start_time": "2024-07-09T20:31:10.368Z"
   },
   {
    "duration": 51,
    "start_time": "2024-07-09T20:31:10.420Z"
   },
   {
    "duration": 51,
    "start_time": "2024-07-09T20:31:10.473Z"
   },
   {
    "duration": 68,
    "start_time": "2024-07-09T20:31:10.525Z"
   },
   {
    "duration": 105,
    "start_time": "2024-07-09T20:31:10.595Z"
   },
   {
    "duration": 5,
    "start_time": "2024-07-09T20:31:10.702Z"
   },
   {
    "duration": 69,
    "start_time": "2024-07-09T20:31:10.708Z"
   },
   {
    "duration": 68,
    "start_time": "2024-07-09T20:31:10.778Z"
   },
   {
    "duration": 69,
    "start_time": "2024-07-09T20:31:10.848Z"
   },
   {
    "duration": 69,
    "start_time": "2024-07-09T20:31:10.918Z"
   },
   {
    "duration": 70,
    "start_time": "2024-07-09T20:31:10.989Z"
   },
   {
    "duration": 3,
    "start_time": "2024-07-09T20:31:11.060Z"
   },
   {
    "duration": 80,
    "start_time": "2024-07-09T20:31:11.065Z"
   },
   {
    "duration": 70,
    "start_time": "2024-07-09T20:31:11.147Z"
   },
   {
    "duration": 3,
    "start_time": "2024-07-09T20:31:58.784Z"
   },
   {
    "duration": 101,
    "start_time": "2024-07-09T20:33:20.398Z"
   },
   {
    "duration": 5,
    "start_time": "2024-07-09T20:33:28.398Z"
   },
   {
    "duration": 69,
    "start_time": "2024-07-09T20:33:33.671Z"
   }
  ],
  "kernelspec": {
   "display_name": "Python 3 (ipykernel)",
   "language": "python",
   "name": "python3"
  },
  "language_info": {
   "codemirror_mode": {
    "name": "ipython",
    "version": 3
   },
   "file_extension": ".py",
   "mimetype": "text/x-python",
   "name": "python",
   "nbconvert_exporter": "python",
   "pygments_lexer": "ipython3",
   "version": "3.9.5"
  },
  "toc": {
   "base_numbering": 1,
   "nav_menu": {},
   "number_sections": true,
   "sideBar": true,
   "skip_h1_title": true,
   "title_cell": "Table of Contents",
   "title_sidebar": "Contents",
   "toc_cell": false,
   "toc_position": {},
   "toc_section_display": true,
   "toc_window_display": true
  }
 },
 "nbformat": 4,
 "nbformat_minor": 2
}
